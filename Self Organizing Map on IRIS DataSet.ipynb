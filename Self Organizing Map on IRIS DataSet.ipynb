{
 "cells": [
  {
   "cell_type": "markdown",
   "metadata": {},
   "source": [
    "<h3>Purpose</h3>\n",
    "<br>\n",
    "The purpose of this project is to train a SOM to cluster and classify the IRIS dataset. As a benchmark against classification, the SOM will compete with a simple decision tree.  "
   ]
  },
  {
   "cell_type": "code",
   "execution_count": 1,
   "metadata": {},
   "outputs": [],
   "source": [
    "'Required imports'\n",
    "import os\n",
    "import numpy as np\n",
    "import scipy.io as sio             \n",
    "import matplotlib.pyplot as plt\n",
    "from mpl_toolkits.mplot3d import Axes3D\n",
    "from pylab import plot,axis,show,pcolor,colorbar,bone\n",
    "\n",
    "'The Ai-modules'\n",
    "from sklearn.decomposition import PCA\n",
    "from sklearn.tree import DecisionTreeClassifier\n",
    "from sklearn import preprocessing  # Data preprocessing\n",
    "from minisom import MiniSom        # SOM toolbox"
   ]
  },
  {
   "cell_type": "code",
   "execution_count": 2,
   "metadata": {},
   "outputs": [
    {
     "name": "stdout",
     "output_type": "stream",
     "text": [
      ".. _iris_dataset:\n",
      "\n",
      "Iris plants dataset\n",
      "--------------------\n",
      "\n",
      "**Data Set Characteristics:**\n",
      "\n",
      "    :Number of Instances: 150 (50 in each of three classes)\n",
      "    :Number of Attributes: 4 numeric, predictive attributes and the class\n",
      "    :Attribute Information:\n",
      "        - sepal length in cm\n",
      "        - sepal width in cm\n",
      "        - petal length in cm\n",
      "        - petal width in cm\n",
      "        - class:\n",
      "                - Iris-Setosa\n",
      "                - Iris-Versicolour\n",
      "                - Iris-Virginica\n",
      "                \n",
      "    :Summary Statistics:\n",
      "\n",
      "    ============== ==== ==== ======= ===== ====================\n",
      "                    Min  Max   Mean    SD   Class Correlation\n",
      "    ============== ==== ==== ======= ===== ====================\n",
      "    sepal length:   4.3  7.9   5.84   0.83    0.7826\n",
      "    sepal width:    2.0  4.4   3.05   0.43   -0.4194\n",
      "    petal length:   1.0  6.9   3.76   1.76    0.9490  (high!)\n",
      "    petal width:    0.1  2.5   1.20   0.76    0.9565  (high!)\n",
      "    ============== ==== ==== ======= ===== ====================\n",
      "\n",
      "    :Missing Attribute Values: None\n",
      "    :Class Distribution: 33.3% for each of 3 classes.\n",
      "    :Creator: R.A. Fisher\n",
      "    :Donor: Michael Marshall (MARSHALL%PLU@io.arc.nasa.gov)\n",
      "    :Date: July, 1988\n",
      "\n",
      "The famous Iris database, first used by Sir R.A. Fisher. The dataset is taken\n",
      "from Fisher's paper. Note that it's the same as in R, but not as in the UCI\n",
      "Machine Learning Repository, which has two wrong data points.\n",
      "\n",
      "This is perhaps the best known database to be found in the\n",
      "pattern recognition literature.  Fisher's paper is a classic in the field and\n",
      "is referenced frequently to this day.  (See Duda & Hart, for example.)  The\n",
      "data set contains 3 classes of 50 instances each, where each class refers to a\n",
      "type of iris plant.  One class is linearly separable from the other 2; the\n",
      "latter are NOT linearly separable from each other.\n",
      "\n",
      ".. topic:: References\n",
      "\n",
      "   - Fisher, R.A. \"The use of multiple measurements in taxonomic problems\"\n",
      "     Annual Eugenics, 7, Part II, 179-188 (1936); also in \"Contributions to\n",
      "     Mathematical Statistics\" (John Wiley, NY, 1950).\n",
      "   - Duda, R.O., & Hart, P.E. (1973) Pattern Classification and Scene Analysis.\n",
      "     (Q327.D83) John Wiley & Sons.  ISBN 0-471-22361-1.  See page 218.\n",
      "   - Dasarathy, B.V. (1980) \"Nosing Around the Neighborhood: A New System\n",
      "     Structure and Classification Rule for Recognition in Partially Exposed\n",
      "     Environments\".  IEEE Transactions on Pattern Analysis and Machine\n",
      "     Intelligence, Vol. PAMI-2, No. 1, 67-71.\n",
      "   - Gates, G.W. (1972) \"The Reduced Nearest Neighbor Rule\".  IEEE Transactions\n",
      "     on Information Theory, May 1972, 431-433.\n",
      "   - See also: 1988 MLC Proceedings, 54-64.  Cheeseman et al\"s AUTOCLASS II\n",
      "     conceptual clustering system finds 3 classes in the data.\n",
      "   - Many, many more ...\n"
     ]
    },
    {
     "data": {
      "text/html": [
       "<img src=\"https://s3.amazonaws.com/assets.datacamp.com/blog_assets/Machine+Learning+R/iris-machinelearning.png\"/>"
      ],
      "text/plain": [
       "<IPython.core.display.Image object>"
      ]
     },
     "execution_count": 2,
     "metadata": {},
     "output_type": "execute_result"
    }
   ],
   "source": [
    "'Import Iris dataset'\n",
    "from sklearn import datasets\n",
    "IRIS = datasets.load_iris()\n",
    "print(IRIS.DESCR)\n",
    "\n",
    "from IPython.display import Image\n",
    "from IPython.core.display import HTML \n",
    "Image(url= \"https://s3.amazonaws.com/assets.datacamp.com/blog_assets/Machine+Learning+R/iris-machinelearning.png\")"
   ]
  },
  {
   "cell_type": "markdown",
   "metadata": {},
   "source": [
    "**SOM**  \n",
    "The below code creates the SOM and outputs the classification accuracy.  "
   ]
  },
  {
   "cell_type": "code",
   "execution_count": 3,
   "metadata": {},
   "outputs": [],
   "source": [
    "import math\n",
    "\n",
    "def plot_legend():\n",
    "\n",
    "    # Basis vectors for triangle\n",
    "    basis = np.array([[0.0, 1.0], [-1.5/np.sqrt(3), -0.5],[1.5/np.sqrt(3), -0.5]])\n",
    "\n",
    "    fig = plt.figure()\n",
    "    ax = fig.add_subplot(111,aspect='equal')\n",
    "\n",
    "    # Plot points\n",
    "    a, b, c = np.mgrid[0.0:1.0:50j, 0.0:1.0:50j, 0.0:1.0:50j]\n",
    "    a, b, c = a.flatten(), b.flatten(), c.flatten()\n",
    "    abc = np.dstack((a,b,c))[0]\n",
    "    abc = map(lambda x: x/sum(x), abc)\n",
    "\n",
    "    data = np.dot(abc, basis)\n",
    "    colours = [abc_to_rgb(A=point[0],B=point[1],C=point[2]) for point in abc]\n",
    "\n",
    "    ax.scatter(data[:,0], data[:,1],marker=',',edgecolors='none',facecolors=colours)\n",
    "\n",
    "    # Plot triangle\n",
    "    ax.plot([basis[_,0] for _ in range(3) + [0,]],[basis[_,1] for _ in range(3) + [0,]],**{'color':'black','linewidth':3})\n",
    "\n",
    "    # Plot labels at vertices\n",
    "    offset = 0.25\n",
    "    fontsize = 32\n",
    "    ax.text(basis[0,0]*(1+offset), basis[0,1]*(1+offset), '$A$', horizontalalignment='center',\n",
    "            verticalalignment='center', fontsize=fontsize)\n",
    "    ax.text(basis[1,0]*(1+offset), basis[1,1]*(1+offset), '$B$', horizontalalignment='center',\n",
    "            verticalalignment='center', fontsize=fontsize)\n",
    "    ax.text(basis[2,0]*(1+offset), basis[2,1]*(1+offset), '$C$', horizontalalignment='center',\n",
    "            verticalalignment='center', fontsize=fontsize)    \n",
    "\n",
    "    ax.set_frame_on(False)\n",
    "    ax.set_xticks(())\n",
    "    ax.set_yticks(())\n",
    "\n",
    "    plt.show()\n",
    "\n",
    "def Train_and_Plot_SOM(dimensions, inputData, steps):\n",
    "    dimensions = np.array(dimensions)\n",
    "    inputData = np.transpose(inputData)\n",
    "    # Create SOM\n",
    "    som = MiniSom(\n",
    "        int(dimensions[0]),                                # Number of neurons (x-axis)\n",
    "        int(dimensions[1]),                                # Number of neurons (y-axis)\n",
    "        np.shape(inputData)[1],             # Number of elements in an input vector\n",
    "        sigma = .9,                        # Spread of the neighbourhood function\n",
    "        learning_rate = 0.5,                # Initial learning rate\n",
    "        neighborhood_function = 'gaussian'  # Type of neighborhood function\n",
    "    )\n",
    "\n",
    "    som.random_weights_init(inputData)  # Initialize weights of neurons randomly\n",
    "    som.train_random(inputData, steps)  # Train the SOM using the input vectors in a random order \n",
    "\n",
    "    # Plot distance map of the SOM\n",
    "\n",
    "    t = IRIS.target\n",
    "    fig = plt.figure(figsize=(10,10))\n",
    "    ax = plt.subplot(1, 1, 1)\n",
    "    plt.bone()\n",
    "    plt.pcolor(som.distance_map().T, cmap='Greys')\n",
    "    bar = plt.colorbar()\n",
    "    bar.set_label('Neuron Distance')\n",
    "    \n",
    "    # use different colors and markers for each label\n",
    "    markers = ['o', 's', '^']\n",
    "    colors = ['y', 'b', 'g']\n",
    "    labels = ['Iris Sentosa', 'Iris Versicolor', 'Iris Virginica']\n",
    "    counter = [ False, False, False]\n",
    "    w_class = np.zeros([dimensions[0], dimensions[1], 3])\n",
    "    for cnt, xx in enumerate(inputData):\n",
    "        w = som.winner(xx)  # getting the winner\n",
    "        w_class[w[0], w[1], t[cnt]] +=1\n",
    "        \n",
    "        # place a marker on the winning position for the sample xx\n",
    "        if counter[t[cnt]] == False:\n",
    "            ax.plot(w[0]+.5, w[1]+.5, markers[t[cnt]], markerfacecolor='None',\n",
    "                     markeredgecolor=colors[t[cnt]], markersize=5, markeredgewidth=2, label=labels[t[cnt]])\n",
    "            counter[t[cnt]] = True\n",
    "        else:\n",
    "            ax.plot(w[0]+.5, w[1]+.5, markers[t[cnt]], markerfacecolor='None',\n",
    "                 markeredgecolor=colors[t[cnt]], markersize=5, markeredgewidth=2)\n",
    "    ax.axis([0, dimensions[0], 0, dimensions[1]])\n",
    "    ax.legend(loc=2, mode='expand', numpoints=1, ncol=4, fancybox = True)\n",
    "    plt.title(''.join([str(dimensions[0]), 'x' ,str(dimensions[1]),  ' SOM, after ' , str(steps) ,' training steps']))\n",
    "    plt.show()\n",
    "\n",
    "    \n",
    "    Class_acc = np.sum(np.amax(w_class, 2)) / np.sum(w_class)\n",
    "    print(\"classification Accuracy: \", Class_acc)\n",
    "\n"
   ]
  },
  {
   "cell_type": "code",
   "execution_count": 6,
   "metadata": {},
   "outputs": [
    {
     "data": {
      "image/png": "[encoded data removed]",
      "text/plain": [
       "<Figure size 720x720 with 2 Axes>"
      ]
     },
     "metadata": {
      "needs_background": "light"
     },
     "output_type": "display_data"
    },
    {
     "name": "stdout",
     "output_type": "stream",
     "text": [
      "classification Accuracy:  0.9866666666666667\n"
     ]
    }
   ],
   "source": [
    "# call the function to plot SOM\n",
    "SepalLength = IRIS.data[:,0]\n",
    "SepalWidth = IRIS.data[:,1]\n",
    "PetalLength = IRIS.data[:,2]\n",
    "PetalWidth = IRIS.data[:,3]\n",
    "Train_and_Plot_SOM(dimensions=[7, 7], inputData=[PetalWidth, SepalLength,SepalWidth, PetalLength], steps=2000)\n"
   ]
  },
  {
   "cell_type": "markdown",
   "metadata": {},
   "source": [
    "**Decision Tree**  \n",
    "Below code creates the simple decision tree and outputs the classification accuracy. "
   ]
  },
  {
   "cell_type": "code",
   "execution_count": 5,
   "metadata": {},
   "outputs": [
    {
     "name": "stdout",
     "output_type": "stream",
     "text": [
      "This Decision tree's accuracy is:  0.96\n"
     ]
    },
    {
     "data": {
      "image/png": "[encoded data removed]",
      "text/plain": [
       "<Figure size 432x288 with 1 Axes>"
      ]
     },
     "metadata": {
      "needs_background": "light"
     },
     "output_type": "display_data"
    }
   ],
   "source": [
    "'Building a Decision Tree'\n",
    "\n",
    "Benchmark_tree = DecisionTreeClassifier(max_depth=2, random_state=42)\n",
    "Benchmark_tree.fit(IRIS.data[:,2:], IRIS.target)\n",
    "print(\"This Decision tree's accuracy is: \", Benchmark_tree.score(IRIS.data[:,2:], IRIS.target))\n",
    "\n",
    "'Plotting the Decision boundaries'\n",
    "from matplotlib.colors import ListedColormap\n",
    "\n",
    "def plot_decision_boundary(clf, X, y, axes=[0, 7.5, 0, 3]):\n",
    "    x1s = np.linspace(axes[0], axes[1], 100)\n",
    "    x2s = np.linspace(axes[2], axes[3], 100)\n",
    "    x1, x2 = np.meshgrid(x1s, x2s)\n",
    "    X_new = np.c_[x1.ravel(), x2.ravel()]\n",
    "    y_pred = clf.predict(X_new).reshape(x1.shape)\n",
    "    custom_cmap = ListedColormap(['#fafab0','#9898ff','#a0faa0'])\n",
    "    \n",
    "    plt.contourf(x1, x2, y_pred, alpha=0.3, cmap=custom_cmap)\n",
    "    plt.plot(X[:, 0][y==0], X[:, 1][y==0], \"yo\", label=\"Iris-Setosa\")\n",
    "    plt.plot(X[:, 0][y==1], X[:, 1][y==1], \"bs\", label=\"Iris-Versicolor\")\n",
    "    plt.plot(X[:, 0][y==2], X[:, 1][y==2], \"g^\", label=\"Iris-Virginica\")\n",
    "    plt.axis(axes)\n",
    "    plt.xlabel(\"Petal length\")\n",
    "    plt.ylabel(\"Petal width\")\n",
    "\n",
    "plot_decision_boundary(Benchmark_tree, IRIS.data[:,2:], IRIS.target)\n",
    "plt.plot([2.45, 2.45], [0, 3], \"k-\", linewidth=2)\n",
    "plt.plot([2.45, 7.5], [1.75, 1.75], \"k--\", linewidth=2)\n",
    "plt.plot([4.95, 4.95], [0, 1.75], \"k:\", linewidth=2)\n",
    "plt.plot([4.85, 4.85], [1.75, 3], \"k:\", linewidth=2)\n",
    "plt.text(1.40, 1.0, \"Depth=0\", fontsize=15)\n",
    "plt.text(3.2, 1.80, \"Depth=1\", fontsize=13)\n",
    "plt.text(4.05, 0.5, \"(Depth=2)\", fontsize=11)\n",
    "plt.legend()\n",
    "\n",
    "plt.show()\n"
   ]
  }
 ],
 "metadata": {
  "kernelspec": {
   "display_name": "Python 3",
   "language": "python",
   "name": "python3"
  },
  "language_info": {
   "codemirror_mode": {
    "name": "ipython",
    "version": 3
   },
   "file_extension": ".py",
   "mimetype": "text/x-python",
   "name": "python",
   "nbconvert_exporter": "python",
   "pygments_lexer": "ipython3",
   "version": "3.6.8"
  }
 },
 "nbformat": 4,
 "nbformat_minor": 2
}
